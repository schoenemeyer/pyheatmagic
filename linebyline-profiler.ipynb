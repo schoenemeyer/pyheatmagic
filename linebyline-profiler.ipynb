{
 "cells": [
  {
   "cell_type": "code",
   "execution_count": 1,
   "metadata": {},
   "outputs": [],
   "source": [
    "import numpy as np\n",
    "%load_ext line_profiler"
   ]
  },
  {
   "cell_type": "code",
   "execution_count": 2,
   "metadata": {},
   "outputs": [
    {
     "name": "stdout",
     "output_type": "stream",
     "text": [
      "Overwriting simulation.py\n"
     ]
    }
   ],
   "source": [
    "%%writefile simulation.py\n",
    "import numpy as np\n",
    "\n",
    "def step(*shape):\n",
    "    # Create a random n-vector with +1 or -1 values.\n",
    "    return 2 * (np.random.random_sample(shape)<.5) - 1\n",
    "\n",
    "def simulate(iterations, n=10000):\n",
    "    s = step(iterations, n)\n",
    "    x = np.cumsum(s, axis=0)\n",
    "    bins = np.arange(-30, 30, 1)\n",
    "    y = np.vstack([np.histogram(x[i,:], bins)[0]\n",
    "                   for i in range(iterations)])\n",
    "    return y"
   ]
  },
  {
   "cell_type": "code",
   "execution_count": 3,
   "metadata": {},
   "outputs": [],
   "source": [
    "from simulation import simulate"
   ]
  },
  {
   "cell_type": "code",
   "execution_count": 4,
   "metadata": {},
   "outputs": [
    {
     "name": "stdout",
     "output_type": "stream",
     "text": [
      "\n",
      "*** Profile printout saved to text file 'lprof0'. \n"
     ]
    }
   ],
   "source": [
    "%lprun -T lprof0 -f simulate simulate(50)"
   ]
  },
  {
   "cell_type": "code",
   "execution_count": 5,
   "metadata": {},
   "outputs": [
    {
     "name": "stdout",
     "output_type": "stream",
     "text": [
      "Timer unit: 1e-06 s\n",
      "\n",
      "Total time: 0.063828 s\n",
      "File: /mnt/c/Users/Test/ml/simulation.py\n",
      "Function: simulate at line 7\n",
      "\n",
      "Line #      Hits         Time  Per Hit   % Time  Line Contents\n",
      "==============================================================\n",
      "     7                                           def simulate(iterations, n=10000):\n",
      "     8         1      31489.0  31489.0     49.3      s = step(iterations, n)\n",
      "     9         1       8410.0   8410.0     13.2      x = np.cumsum(s, axis=0)\n",
      "    10         1         39.0     39.0      0.1      bins = np.arange(-30, 30, 1)\n",
      "    11         1          3.0      3.0      0.0      y = np.vstack([np.histogram(x[i,:], bins)[0]\n",
      "    12         1      23885.0  23885.0     37.4                     for i in range(iterations)])\n",
      "    13         1          2.0      2.0      0.0      return y\n"
     ]
    }
   ],
   "source": [
    "print(open('lprof0', 'r').read())\n"
   ]
  },
  {
   "cell_type": "code",
   "execution_count": 6,
   "metadata": {},
   "outputs": [],
   "source": [
    "#!pip  install py-heat-magic "
   ]
  },
  {
   "cell_type": "code",
   "execution_count": null,
   "metadata": {},
   "outputs": [],
   "source": [
    "\n"
   ]
  },
  {
   "cell_type": "code",
   "execution_count": 1,
   "metadata": {},
   "outputs": [
    {
     "name": "stdout",
     "output_type": "stream",
     "text": [
      "The heat module is not an IPython extension.\n"
     ]
    }
   ],
   "source": [
    "import os\n",
    "from tempfile import mkstemp\n",
    "\n",
    "from IPython.core import magic_arguments\n",
    "from IPython.core.magic import Magics, cell_magic, magics_class\n",
    "from pyheat import PyHeat\n",
    "%load_ext heat"
   ]
  },
  {
   "cell_type": "code",
   "execution_count": null,
   "metadata": {},
   "outputs": [],
   "source": [
    "%%heat"
   ]
  },
  {
   "cell_type": "code",
   "execution_count": null,
   "metadata": {},
   "outputs": [],
   "source": [
    "@magics_class\n",
    "class PyHeatMagic(Magics):\n",
    "    \"\"\"Class with IPython magic commands to effectively use py-heat profiling\n",
    "    within IPython.\"\"\"\n",
    "\n",
    "    @magic_arguments.magic_arguments()\n",
    "    @magic_arguments.argument(\n",
    "        \"-o\", \"--out\", default=None, help=\"Save the heatmap to given file\"\n",
    "    )\n",
    "    @cell_magic\n",
    "    def heat(self, line, cell):\n",
    "        \"\"\"Method to profile the python code in the ipython cell and display it\n",
    "        as a heatmap using py-heat package.\n",
    "\n",
    "        :param line: Line value for the ipython line this magic is called from.\n",
    "        :param cell: Cell value for the ipython cell this magic is called from.\n",
    "        \"\"\"\n",
    "        args = magic_arguments.parse_argstring(self.heat, line)\n",
    "        filename = args.out\n",
    "        if filename is not None:\n",
    "            filename = os.path.expanduser(args.out)\n",
    "\n",
    "        _, tmp_file = mkstemp()\n",
    "        with open(tmp_file, \"wb\") as f:\n",
    "            f.write(cell.encode())\n",
    "\n",
    "        pyheat = PyHeat(tmp_file)\n",
    "        pyheat.create_heatmap()\n",
    "        pyheat.show_heatmap(output_file=filename)\n",
    "        pyheat.close_heatmap()\n",
    "\n",
    "        os.remove(tmp_file)\n",
    "\n",
    "\n",
    "def load_ipython_extension(ipython):\n",
    "    ipython.register_magics(PyHeatMagic)\n"
   ]
  }
 ],
 "metadata": {
  "kernelspec": {
   "display_name": "Python 3",
   "language": "python",
   "name": "python3"
  },
  "language_info": {
   "codemirror_mode": {
    "name": "ipython",
    "version": 3
   },
   "file_extension": ".py",
   "mimetype": "text/x-python",
   "name": "python",
   "nbconvert_exporter": "python",
   "pygments_lexer": "ipython3",
   "version": "3.7.4"
  }
 },
 "nbformat": 4,
 "nbformat_minor": 4
}
